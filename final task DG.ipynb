{
 "cells": [
  {
   "cell_type": "code",
   "execution_count": 12,
   "metadata": {},
   "outputs": [],
   "source": [
    "import pandas as pd \n",
    "from sklearn import svm \n",
    "from sklearn.svm import SVC \n",
    "from sklearn.ensemble import RandomForestClassifier \n",
    "from sklearn.linear_model import LogisticRegression\n",
    "from sklearn.linear_model import LinearRegression\n",
    "from sklearn.neighbors import KNeighborsClassifier \n",
    "from sklearn.metrics import classification_report\n",
    "from sklearn.metrics import confusion_matrix\n",
    "from sklearn.tree import DecisionTreeClassifier\n",
    "from sklearn.ensemble import RandomForestClassifier\n",
    "from sklearn.model_selection import train_test_split \n",
    "import numpy as np \n",
    "import matplotlib.pyplot as plt"
   ]
  },
  {
   "cell_type": "code",
   "execution_count": 2,
   "metadata": {},
   "outputs": [],
   "source": [
    "train  = pd.read_csv('Downloads/digit-recognizer/train.csv') #importing training dataframe"
   ]
  },
  {
   "cell_type": "code",
   "execution_count": null,
   "metadata": {},
   "outputs": [],
   "source": [
    "train.head()"
   ]
  },
  {
   "cell_type": "code",
   "execution_count": null,
   "metadata": {},
   "outputs": [],
   "source": [
    "train.columns #show all columns in dataframe"
   ]
  },
  {
   "cell_type": "code",
   "execution_count": 3,
   "metadata": {},
   "outputs": [],
   "source": [
    "x = train.drop('label', axis = 1)\n",
    "y = train['label']"
   ]
  },
  {
   "cell_type": "code",
   "execution_count": 4,
   "metadata": {},
   "outputs": [],
   "source": [
    "x_train,x_test,y_train,y_test=train_test_split(x, y, test_size=0.2) #dividing the test data set "
   ]
  },
  {
   "cell_type": "code",
   "execution_count": 8,
   "metadata": {},
   "outputs": [
    {
     "data": {
      "text/plain": [
       "array([6.65528202, 4.90106152, 3.94467035, ..., 1.71451215, 1.33450802,\n",
       "       1.48701668])"
      ]
     },
     "execution_count": 8,
     "metadata": {},
     "output_type": "execute_result"
    }
   ],
   "source": [
    "lr = LinearRegression()\n",
    "lr.fit(x_train, y_train)\n",
    "lr.predict(x_test)"
   ]
  },
  {
   "cell_type": "code",
   "execution_count": 22,
   "metadata": {},
   "outputs": [
    {
     "name": "stderr",
     "output_type": "stream",
     "text": [
      "/anaconda3/lib/python3.7/site-packages/sklearn/linear_model/logistic.py:433: FutureWarning: Default solver will be changed to 'lbfgs' in 0.22. Specify a solver to silence this warning.\n",
      "  FutureWarning)\n",
      "/anaconda3/lib/python3.7/site-packages/sklearn/linear_model/logistic.py:460: FutureWarning: Default multi_class will be changed to 'auto' in 0.22. Specify the multi_class option to silence this warning.\n",
      "  \"this warning.\", FutureWarning)\n"
     ]
    },
    {
     "name": "stdout",
     "output_type": "stream",
     "text": [
      "              precision    recall  f1-score   support\n",
      "\n",
      "           0       0.95      0.96      0.95       834\n",
      "           1       0.95      0.95      0.95       931\n",
      "           2       0.88      0.87      0.88       833\n",
      "           3       0.88      0.88      0.88       864\n",
      "           4       0.90      0.93      0.92       810\n",
      "           5       0.86      0.83      0.84       698\n",
      "           6       0.95      0.95      0.95       837\n",
      "           7       0.93      0.92      0.92       924\n",
      "           8       0.83      0.84      0.84       822\n",
      "           9       0.88      0.88      0.88       847\n",
      "\n",
      "   micro avg       0.90      0.90      0.90      8400\n",
      "   macro avg       0.90      0.90      0.90      8400\n",
      "weighted avg       0.90      0.90      0.90      8400\n",
      "\n"
     ]
    },
    {
     "name": "stderr",
     "output_type": "stream",
     "text": [
      "/anaconda3/lib/python3.7/site-packages/sklearn/svm/base.py:922: ConvergenceWarning: Liblinear failed to converge, increase the number of iterations.\n",
      "  \"the number of iterations.\", ConvergenceWarning)\n"
     ]
    }
   ],
   "source": [
    "logreg = LogisticRegression()\n",
    "logreg.fit(x_train, y_train)\n",
    "pred3 = logreg.predict(x_test)\n",
    "print(classification_report(y_test, pred3)) "
   ]
  },
  {
   "cell_type": "code",
   "execution_count": 23,
   "metadata": {},
   "outputs": [
    {
     "name": "stdout",
     "output_type": "stream",
     "text": [
      "              precision    recall  f1-score   support\n",
      "\n",
      "           0       0.98      1.00      0.99       834\n",
      "           1       0.96      0.99      0.98       931\n",
      "           2       0.98      0.96      0.97       833\n",
      "           3       0.95      0.96      0.95       864\n",
      "           4       0.96      0.96      0.96       810\n",
      "           5       0.96      0.96      0.96       698\n",
      "           6       0.98      0.99      0.99       837\n",
      "           7       0.96      0.96      0.96       924\n",
      "           8       0.98      0.92      0.95       822\n",
      "           9       0.93      0.95      0.94       847\n",
      "\n",
      "   micro avg       0.97      0.97      0.97      8400\n",
      "   macro avg       0.97      0.96      0.97      8400\n",
      "weighted avg       0.97      0.97      0.97      8400\n",
      "\n"
     ]
    }
   ],
   "source": [
    "knear = KNeighborsClassifier(n_neighbors = 1)\n",
    "knear.fit(x_train, y_train)\n",
    "pred4 = knear.predict(x_test)\n",
    "print(classification_report(y_test, pred4))"
   ]
  },
  {
   "cell_type": "code",
   "execution_count": 17,
   "metadata": {},
   "outputs": [
    {
     "name": "stdout",
     "output_type": "stream",
     "text": [
      "              precision    recall  f1-score   support\n",
      "\n",
      "           0       0.91      0.92      0.92       834\n",
      "           1       0.92      0.94      0.93       931\n",
      "           2       0.84      0.82      0.83       833\n",
      "           3       0.82      0.81      0.82       864\n",
      "           4       0.84      0.85      0.85       810\n",
      "           5       0.79      0.76      0.78       698\n",
      "           6       0.87      0.87      0.87       837\n",
      "           7       0.90      0.90      0.90       924\n",
      "           8       0.80      0.78      0.79       822\n",
      "           9       0.82      0.85      0.84       847\n",
      "\n",
      "   micro avg       0.85      0.85      0.85      8400\n",
      "   macro avg       0.85      0.85      0.85      8400\n",
      "weighted avg       0.85      0.85      0.85      8400\n",
      "\n"
     ]
    }
   ],
   "source": [
    "dttree = DecisionTreeClassifier()\n",
    "dttree.fit(x_train, y_train)\n",
    "pred = dttree.predict(x_test)\n",
    "print(classification_report(y_test, pred))"
   ]
  },
  {
   "cell_type": "code",
   "execution_count": null,
   "metadata": {},
   "outputs": [],
   "source": [
    "svc = SVC()\n",
    "svc.fit(x_train, y_train)\n",
    "svc.predict(x_test)"
   ]
  },
  {
   "cell_type": "code",
   "execution_count": 19,
   "metadata": {},
   "outputs": [
    {
     "name": "stderr",
     "output_type": "stream",
     "text": [
      "/anaconda3/lib/python3.7/site-packages/sklearn/ensemble/forest.py:246: FutureWarning: The default value of n_estimators will change from 10 in version 0.20 to 100 in 0.22.\n",
      "  \"10 in version 0.20 to 100 in 0.22.\", FutureWarning)\n"
     ]
    },
    {
     "name": "stdout",
     "output_type": "stream",
     "text": [
      "              precision    recall  f1-score   support\n",
      "\n",
      "           0       0.96      0.98      0.97       834\n",
      "           1       0.97      0.98      0.98       931\n",
      "           2       0.91      0.94      0.93       833\n",
      "           3       0.91      0.92      0.92       864\n",
      "           4       0.92      0.95      0.93       810\n",
      "           5       0.91      0.91      0.91       698\n",
      "           6       0.96      0.95      0.96       837\n",
      "           7       0.94      0.93      0.94       924\n",
      "           8       0.92      0.89      0.90       822\n",
      "           9       0.93      0.90      0.91       847\n",
      "\n",
      "   micro avg       0.94      0.94      0.94      8400\n",
      "   macro avg       0.94      0.94      0.93      8400\n",
      "weighted avg       0.94      0.94      0.94      8400\n",
      "\n"
     ]
    }
   ],
   "source": [
    "rtree = RandomForestClassifier()\n",
    "rtree.fit(x_train, y_train)\n",
    "pred1 = rtree.predict(x_test)\n",
    "print(classification_report(y_test, pred1))"
   ]
  },
  {
   "cell_type": "code",
   "execution_count": 21,
   "metadata": {},
   "outputs": [
    {
     "data": {
      "text/plain": [
       "label\n",
       "4    4\n",
       "5    5\n",
       "3    3\n",
       "4    4\n",
       "0    0\n",
       "6    6\n",
       "8    8\n",
       "3    3\n",
       "1    1\n",
       "2    2\n",
       "4    4\n",
       "7    7\n",
       "1    1\n",
       "0    0\n",
       "6    6\n",
       "1    1\n",
       "5    5\n",
       "8    8\n",
       "2    2\n",
       "7    7\n",
       "9    9\n",
       "4    4\n",
       "5    5\n",
       "9    9\n",
       "8    8\n",
       "3    5\n",
       "5    5\n",
       "6    6\n",
       "4    4\n",
       "7    7\n",
       "    ..\n",
       "3    3\n",
       "2    2\n",
       "6    6\n",
       "0    0\n",
       "0    0\n",
       "6    6\n",
       "6    6\n",
       "4    4\n",
       "6    6\n",
       "6    6\n",
       "5    5\n",
       "0    0\n",
       "3    5\n",
       "0    0\n",
       "6    6\n",
       "2    2\n",
       "4    4\n",
       "0    0\n",
       "5    5\n",
       "1    1\n",
       "2    2\n",
       "7    7\n",
       "3    7\n",
       "3    5\n",
       "1    1\n",
       "3    3\n",
       "2    2\n",
       "0    0\n",
       "1    1\n",
       "3    3\n",
       "Length: 8400, dtype: int64"
      ]
     },
     "execution_count": 21,
     "metadata": {},
     "output_type": "execute_result"
    }
   ],
   "source": [
    "pd.Series(pred1, y_test)"
   ]
  },
  {
   "cell_type": "code",
   "execution_count": null,
   "metadata": {},
   "outputs": [],
   "source": []
  }
 ],
 "metadata": {
  "kernelspec": {
   "display_name": "Python 3",
   "language": "python",
   "name": "python3"
  },
  "language_info": {
   "codemirror_mode": {
    "name": "ipython",
    "version": 3
   },
   "file_extension": ".py",
   "mimetype": "text/x-python",
   "name": "python",
   "nbconvert_exporter": "python",
   "pygments_lexer": "ipython3",
   "version": "3.7.1"
  }
 },
 "nbformat": 4,
 "nbformat_minor": 2
}
